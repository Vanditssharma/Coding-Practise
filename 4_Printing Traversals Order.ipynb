{
 "cells": [
  {
   "cell_type": "code",
   "execution_count": 1,
   "metadata": {},
   "outputs": [],
   "source": [
    "class BinaryTreeNode:\n",
    "    \n",
    "    def __init__(self,data):\n",
    "        \n",
    "        self.data=data\n",
    "        self.left = None\n",
    "        self.right = None"
   ]
  },
  {
   "cell_type": "code",
   "execution_count": 2,
   "metadata": {},
   "outputs": [],
   "source": [
    "def takeInp():\n",
    "    \n",
    "    rootData = int(input())\n",
    "    \n",
    "    if rootData==-1:\n",
    "        return None\n",
    "    \n",
    "    root = BinaryTreeNode(rootData)\n",
    "    lefttree = takeInp()\n",
    "    righttree = takeInp()\n",
    "    \n",
    "    root.left=lefttree\n",
    "    root.right=righttree\n",
    "    \n",
    "    return root\n",
    "    \n",
    "    "
   ]
  },
  {
   "cell_type": "code",
   "execution_count": 12,
   "metadata": {},
   "outputs": [],
   "source": [
    "def printPreOrder(root):\n",
    "    \n",
    "    if root is None:\n",
    "        return\n",
    "    print(root.data, end=\" \")\n",
    "\n",
    "    printPreOrder(root.left)\n",
    "    printPreOrder(root.right)"
   ]
  },
  {
   "cell_type": "code",
   "execution_count": 13,
   "metadata": {},
   "outputs": [],
   "source": [
    "def printInOrder(root):\n",
    "    \n",
    "    if root is None:\n",
    "        return\n",
    "    lefttree = printInOrder(root.left)\n",
    "    print(root.data, end=\" \")\n",
    "    righttree = printInOrder(root.right)"
   ]
  },
  {
   "cell_type": "code",
   "execution_count": 14,
   "metadata": {},
   "outputs": [],
   "source": [
    "def printPostOrder(root):\n",
    "    \n",
    "    if root is None:\n",
    "        return\n",
    "    lefttree = printPostOrder(root.left)\n",
    "    righttree = printPostOrder(root.right)\n",
    "    print(root.data, end=\" \")\n"
   ]
  },
  {
   "cell_type": "code",
   "execution_count": 7,
   "metadata": {},
   "outputs": [
    {
     "name": "stdout",
     "output_type": "stream",
     "text": [
      "30\n",
      "15\n",
      "10\n",
      "-1\n",
      "-1\n",
      "20\n",
      "-1\n",
      "-1\n",
      "50\n",
      "40\n",
      "-1\n",
      "-1\n",
      "60\n",
      "-1\n",
      "-1\n"
     ]
    }
   ],
   "source": [
    "root = takeInp()"
   ]
  },
  {
   "cell_type": "code",
   "execution_count": 16,
   "metadata": {},
   "outputs": [
    {
     "name": "stdout",
     "output_type": "stream",
     "text": [
      "Pre-Order 30 15 10 20 50 40 60 "
     ]
    }
   ],
   "source": [
    "print(\"Pre-Order\",end=\" \")\n",
    "printPreOrder(root)"
   ]
  },
  {
   "cell_type": "code",
   "execution_count": 17,
   "metadata": {},
   "outputs": [
    {
     "name": "stdout",
     "output_type": "stream",
     "text": [
      "In-Order 10 15 20 30 40 50 60 "
     ]
    }
   ],
   "source": [
    "print(\"In-Order\",end=\" \")\n",
    "printInOrder(root)"
   ]
  },
  {
   "cell_type": "code",
   "execution_count": 18,
   "metadata": {},
   "outputs": [
    {
     "name": "stdout",
     "output_type": "stream",
     "text": [
      "Post-Order 10 20 15 40 60 50 30 "
     ]
    }
   ],
   "source": [
    "print(\"Post-Order\",end=\" \")\n",
    "printPostOrder(root)"
   ]
  }
 ],
 "metadata": {
  "kernelspec": {
   "display_name": "Python 3",
   "language": "python",
   "name": "python3"
  },
  "language_info": {
   "codemirror_mode": {
    "name": "ipython",
    "version": 3
   },
   "file_extension": ".py",
   "mimetype": "text/x-python",
   "name": "python",
   "nbconvert_exporter": "python",
   "pygments_lexer": "ipython3",
   "version": "3.7.4"
  }
 },
 "nbformat": 4,
 "nbformat_minor": 2
}
